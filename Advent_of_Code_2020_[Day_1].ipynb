{
  "nbformat": 4,
  "nbformat_minor": 0,
  "metadata": {
    "colab": {
      "name": "Advent of Code 2020 [Day 1].ipynb",
      "provenance": [],
      "authorship_tag": "ABX9TyPLpy+x6m8utdmtYFjPi/a4",
      "include_colab_link": true
    },
    "kernelspec": {
      "name": "python3",
      "display_name": "Python 3"
    },
    "language_info": {
      "name": "python"
    }
  },
  "cells": [
    {
      "cell_type": "markdown",
      "metadata": {
        "id": "view-in-github",
        "colab_type": "text"
      },
      "source": [
        "<a href=\"https://colab.research.google.com/github/Combeter201/Advent-of-Code-2020/blob/main/Advent_of_Code_2020_%5BDay_1%5D.ipynb\" target=\"_parent\"><img src=\"https://colab.research.google.com/assets/colab-badge.svg\" alt=\"Open In Colab\"/></a>"
      ]
    },
    {
      "cell_type": "markdown",
      "metadata": {
        "id": "2ML2_wqr3IK3"
      },
      "source": [
        "# **Advent of Code 2020**\n",
        "### *Day 1* 🎄"
      ]
    },
    {
      "cell_type": "code",
      "metadata": {
        "id": "TUixLDqf2zeC"
      },
      "source": [
        "with open('input.txt') as file:\n",
        "    lines = file.readlines()\n",
        "    input = [int(i) for i in lines]"
      ],
      "execution_count": 4,
      "outputs": []
    },
    {
      "cell_type": "markdown",
      "metadata": {
        "id": "qyH7FeqR3TWP"
      },
      "source": [
        "# **Part 1**\n"
      ]
    },
    {
      "cell_type": "code",
      "metadata": {
        "colab": {
          "base_uri": "https://localhost:8080/"
        },
        "id": "wog_Ch6P3WK_",
        "outputId": "1bb89e12-0ce4-4db6-9539-cbd588e53b84"
      },
      "source": [
        "for x in input:\n",
        "  for y in input:\n",
        "    if x + y == 2020: break \n",
        "    continue\n",
        "  if x + y == 2020: \n",
        "    print(x * y)\n",
        "    break"
      ],
      "execution_count": 5,
      "outputs": [
        {
          "output_type": "stream",
          "name": "stdout",
          "text": [
            "55776\n"
          ]
        }
      ]
    },
    {
      "cell_type": "markdown",
      "metadata": {
        "id": "kXEnxkJu6QaF"
      },
      "source": [
        "# **Part 2**\n"
      ]
    },
    {
      "cell_type": "code",
      "metadata": {
        "colab": {
          "base_uri": "https://localhost:8080/"
        },
        "id": "vVEpz_ND6RoQ",
        "outputId": "10182a34-9dbe-45b3-8bb6-dd3181960b4a"
      },
      "source": [
        "for x in input:\n",
        "  for y in input:\n",
        "    for z in input:\n",
        "      if x + y + z == 2020: break \n",
        "      continue\n",
        "    if x + y + z == 2020: break \n",
        "    continue\n",
        "  if x + y + z == 2020: \n",
        "      print(x * y * z)\n",
        "      break "
      ],
      "execution_count": 6,
      "outputs": [
        {
          "output_type": "stream",
          "name": "stdout",
          "text": [
            "223162626\n"
          ]
        }
      ]
    }
  ]
}